{
  "nbformat": 4,
  "nbformat_minor": 0,
  "metadata": {
    "colab": {
      "provenance": [],
      "include_colab_link": true
    },
    "kernelspec": {
      "display_name": "Python 3",
      "language": "python",
      "name": "python3"
    },
    "language_info": {
      "codemirror_mode": {
        "name": "ipython",
        "version": 3
      },
      "file_extension": ".py",
      "mimetype": "text/x-python",
      "name": "python",
      "nbconvert_exporter": "python",
      "pygments_lexer": "ipython3",
      "version": "3.6.8"
    }
  },
  "cells": [
    {
      "cell_type": "markdown",
      "metadata": {
        "id": "view-in-github",
        "colab_type": "text"
      },
      "source": [
        "<a href=\"https://colab.research.google.com/github/ajgquional/LiL_PyTorch-Essential-Training-Deep-Learning/blob/main/Tensors_1.ipynb\" target=\"_parent\"><img src=\"https://colab.research.google.com/assets/colab-badge.svg\" alt=\"Open In Colab\"/></a>"
      ]
    },
    {
      "cell_type": "markdown",
      "metadata": {
        "id": "LFNM3-HxkJtN"
      },
      "source": [
        "# Tensors "
      ]
    },
    {
      "cell_type": "code",
      "metadata": {
        "id": "IkXveXITKBst"
      },
      "source": [
        "import torch"
      ],
      "execution_count": 1,
      "outputs": []
    },
    {
      "cell_type": "markdown",
      "metadata": {
        "id": "0ipN4cH3zsO8"
      },
      "source": [
        "## zeros()\n",
        "Creates a tensor (of a specified dimension) filled with zeros "
      ]
    },
    {
      "cell_type": "code",
      "metadata": {
        "id": "z_fJogRyKDr0",
        "colab": {
          "base_uri": "https://localhost:8080/"
        },
        "outputId": "dd573fbe-6ebd-45c7-df0d-9637ded5713f"
      },
      "source": [
        "w = torch.zeros(4,3)\n",
        "w"
      ],
      "execution_count": 2,
      "outputs": [
        {
          "output_type": "execute_result",
          "data": {
            "text/plain": [
              "tensor([[0., 0., 0.],\n",
              "        [0., 0., 0.],\n",
              "        [0., 0., 0.],\n",
              "        [0., 0., 0.]])"
            ]
          },
          "metadata": {},
          "execution_count": 2
        }
      ]
    },
    {
      "cell_type": "markdown",
      "metadata": {
        "id": "Jl7s1b1pz4Vb"
      },
      "source": [
        "## size() and shape\n",
        "Both shows the dimension of the tensor. Both size() and shape would return the same values - size() is special in PyTorch and shape is an alias to size() for those accustomed with NumPy"
      ]
    },
    {
      "cell_type": "code",
      "metadata": {
        "id": "1_Q-KIOPKK78",
        "colab": {
          "base_uri": "https://localhost:8080/"
        },
        "outputId": "13ba2f07-0d8c-4a43-eebe-c2d2484e3c23"
      },
      "source": [
        "w.size()"
      ],
      "execution_count": 3,
      "outputs": [
        {
          "output_type": "execute_result",
          "data": {
            "text/plain": [
              "torch.Size([4, 3])"
            ]
          },
          "metadata": {},
          "execution_count": 3
        }
      ]
    },
    {
      "cell_type": "code",
      "metadata": {
        "id": "z1_a3ed1KK49",
        "colab": {
          "base_uri": "https://localhost:8080/"
        },
        "outputId": "59b08436-afb6-4e21-f2ff-1694d679e855"
      },
      "source": [
        "w.shape"
      ],
      "execution_count": 4,
      "outputs": [
        {
          "output_type": "execute_result",
          "data": {
            "text/plain": [
              "torch.Size([4, 3])"
            ]
          },
          "metadata": {},
          "execution_count": 4
        }
      ]
    },
    {
      "cell_type": "markdown",
      "metadata": {
        "id": "6OZJGG9w0DL6"
      },
      "source": [
        "## randn() and randn_like()\n",
        "- randn() creates a tensor (of a specified dimension) of random numbers that are normally distributed (mean of 0, standard deviation of 1)\n",
        "- randn_like() is similar to randn() but uses the size of other tensors"
      ]
    },
    {
      "cell_type": "code",
      "metadata": {
        "id": "pElZxDIKKPoc",
        "colab": {
          "base_uri": "https://localhost:8080/"
        },
        "outputId": "85c1740c-9c3c-4d1f-dd5e-812f3b95a1f9"
      },
      "source": [
        "w = torch.rand(4, 3)\n",
        "w"
      ],
      "execution_count": 5,
      "outputs": [
        {
          "output_type": "execute_result",
          "data": {
            "text/plain": [
              "tensor([[0.8999, 0.6248, 0.6850],\n",
              "        [0.7406, 0.7558, 0.7065],\n",
              "        [0.0152, 0.3495, 0.1895],\n",
              "        [0.0136, 0.4912, 0.2473]])"
            ]
          },
          "metadata": {},
          "execution_count": 5
        }
      ]
    },
    {
      "cell_type": "code",
      "metadata": {
        "id": "LDzpInhlKPl0",
        "colab": {
          "base_uri": "https://localhost:8080/"
        },
        "outputId": "e3b4b032-5b56-421e-98dd-e586fc693412"
      },
      "source": [
        "t = torch.randn_like(w)\n",
        "t"
      ],
      "execution_count": 6,
      "outputs": [
        {
          "output_type": "execute_result",
          "data": {
            "text/plain": [
              "tensor([[-0.8005, -0.8860, -1.6234],\n",
              "        [-1.7480, -1.6165,  1.5297],\n",
              "        [ 0.8042,  0.4114,  0.2686],\n",
              "        [-0.4214, -0.7952,  0.3886]])"
            ]
          },
          "metadata": {},
          "execution_count": 6
        }
      ]
    },
    {
      "cell_type": "markdown",
      "metadata": {
        "id": "3rshy4Vq0Jft"
      },
      "source": [
        "## fill_()\n",
        "Mutates the tensor object and fills it up with a specified scalar value"
      ]
    },
    {
      "cell_type": "code",
      "metadata": {
        "id": "YH1cBgIoKXGr",
        "colab": {
          "base_uri": "https://localhost:8080/"
        },
        "outputId": "6f48cd04-a5d7-4f50-dcf2-96e66c726bde"
      },
      "source": [
        "w.fill_(1)"
      ],
      "execution_count": 7,
      "outputs": [
        {
          "output_type": "execute_result",
          "data": {
            "text/plain": [
              "tensor([[1., 1., 1.],\n",
              "        [1., 1., 1.],\n",
              "        [1., 1., 1.],\n",
              "        [1., 1., 1.]])"
            ]
          },
          "metadata": {},
          "execution_count": 7
        }
      ]
    },
    {
      "cell_type": "markdown",
      "metadata": {
        "id": "_eLyYpfw0ot_"
      },
      "source": [
        "## view()\n",
        "Reshapes a tensor"
      ]
    },
    {
      "cell_type": "code",
      "metadata": {
        "id": "8SVsRZWjV6YX",
        "colab": {
          "base_uri": "https://localhost:8080/"
        },
        "outputId": "d17bddcf-900c-4405-fd02-ff02c6501df9"
      },
      "source": [
        "w"
      ],
      "execution_count": 8,
      "outputs": [
        {
          "output_type": "execute_result",
          "data": {
            "text/plain": [
              "tensor([[1., 1., 1.],\n",
              "        [1., 1., 1.],\n",
              "        [1., 1., 1.],\n",
              "        [1., 1., 1.]])"
            ]
          },
          "metadata": {},
          "execution_count": 8
        }
      ]
    },
    {
      "cell_type": "code",
      "metadata": {
        "id": "rRjvqiWBVhKH",
        "colab": {
          "base_uri": "https://localhost:8080/"
        },
        "outputId": "5e229088-0658-449c-9b18-2454da45dae2"
      },
      "source": [
        "t = w.view(3, 4)\n",
        "t"
      ],
      "execution_count": 9,
      "outputs": [
        {
          "output_type": "execute_result",
          "data": {
            "text/plain": [
              "tensor([[1., 1., 1., 1.],\n",
              "        [1., 1., 1., 1.],\n",
              "        [1., 1., 1., 1.]])"
            ]
          },
          "metadata": {},
          "execution_count": 9
        }
      ]
    },
    {
      "cell_type": "code",
      "metadata": {
        "id": "4Le5ZoASVgsw",
        "colab": {
          "base_uri": "https://localhost:8080/"
        },
        "outputId": "c908311f-43dc-4fe4-c3b1-352ddbf3e8bf"
      },
      "source": [
        "w.view(3, -1)"
      ],
      "execution_count": null,
      "outputs": [
        {
          "output_type": "execute_result",
          "data": {
            "text/plain": [
              "tensor([[1., 1., 1., 1.],\n",
              "        [1., 1., 1., 1.],\n",
              "        [1., 1., 1., 1.]])"
            ]
          },
          "metadata": {},
          "execution_count": 12
        }
      ]
    },
    {
      "cell_type": "markdown",
      "metadata": {
        "id": "O7OnDkxj329A"
      },
      "source": [
        "## numpy()\n",
        "- Converts a tensor to a NumPy array\n",
        "- Important: If a Torch tensor is on the CPU, the Torch tensor and the NumPy array will share their underlying memory locations so changing one will change the other"
      ]
    },
    {
      "cell_type": "code",
      "metadata": {
        "id": "YL0za74iWBsn",
        "colab": {
          "base_uri": "https://localhost:8080/"
        },
        "outputId": "14083193-80e4-4cc2-93d5-e8aaef64ce02"
      },
      "source": [
        "w.numpy()"
      ],
      "execution_count": 10,
      "outputs": [
        {
          "output_type": "execute_result",
          "data": {
            "text/plain": [
              "array([[1., 1., 1.],\n",
              "       [1., 1., 1.],\n",
              "       [1., 1., 1.],\n",
              "       [1., 1., 1.]], dtype=float32)"
            ]
          },
          "metadata": {},
          "execution_count": 10
        }
      ]
    },
    {
      "cell_type": "code",
      "metadata": {
        "id": "VbXZYL6uWCD4",
        "colab": {
          "base_uri": "https://localhost:8080/"
        },
        "outputId": "8648a0e5-be86-4b56-e0a9-f259ff0cfe8e"
      },
      "source": [
        "type(w.numpy())"
      ],
      "execution_count": 11,
      "outputs": [
        {
          "output_type": "execute_result",
          "data": {
            "text/plain": [
              "numpy.ndarray"
            ]
          },
          "metadata": {},
          "execution_count": 11
        }
      ]
    }
  ]
}