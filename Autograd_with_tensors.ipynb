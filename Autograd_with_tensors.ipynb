{
  "nbformat": 4,
  "nbformat_minor": 0,
  "metadata": {
    "colab": {
      "provenance": [],
      "include_colab_link": true
    },
    "kernelspec": {
      "name": "python3",
      "display_name": "Python 3"
    }
  },
  "cells": [
    {
      "cell_type": "markdown",
      "metadata": {
        "id": "view-in-github",
        "colab_type": "text"
      },
      "source": [
        "<a href=\"https://colab.research.google.com/github/ajgquional/LiL_PyTorch-Essential-Training-Deep-Learning/blob/main/Autograd_with_tensors.ipynb\" target=\"_parent\"><img src=\"https://colab.research.google.com/assets/colab-badge.svg\" alt=\"Open In Colab\"/></a>"
      ]
    },
    {
      "cell_type": "markdown",
      "metadata": {
        "id": "KPXHZpput5Xf"
      },
      "source": [
        "# Autograd with tensors"
      ]
    },
    {
      "cell_type": "code",
      "metadata": {
        "id": "p-C6nLqAt98a"
      },
      "source": [
        "import torch"
      ],
      "execution_count": 1,
      "outputs": []
    },
    {
      "cell_type": "code",
      "metadata": {
        "id": "WRSfe0Lut952"
      },
      "source": [
        "w = torch.randn(4, 3, requires_grad=True) # requires_grad=True so that PyTorch can keep track of the operations on the tensors and calculate the gradients"
      ],
      "execution_count": 2,
      "outputs": []
    },
    {
      "cell_type": "code",
      "metadata": {
        "id": "O-QcOYO1tkOn",
        "colab": {
          "base_uri": "https://localhost:8080/"
        },
        "outputId": "f85af13b-0201-48f3-fb30-59d31fb31c8c"
      },
      "source": [
        "w"
      ],
      "execution_count": 3,
      "outputs": [
        {
          "output_type": "execute_result",
          "data": {
            "text/plain": [
              "tensor([[-1.1231, -0.6223, -0.9334],\n",
              "        [-0.8107, -0.6207, -0.9675],\n",
              "        [-1.3901,  0.1450,  0.4756],\n",
              "        [ 0.8533,  0.1602,  1.2434]], requires_grad=True)"
            ]
          },
          "metadata": {},
          "execution_count": 3
        }
      ]
    },
    {
      "cell_type": "markdown",
      "source": [
        "Setting requires_grad to False then True again"
      ],
      "metadata": {
        "id": "aLpQsW67ifDU"
      }
    },
    {
      "cell_type": "code",
      "metadata": {
        "id": "FuWckF34t8X1",
        "colab": {
          "base_uri": "https://localhost:8080/"
        },
        "outputId": "ab80dbc7-bfe6-4668-b984-2238f1e1545f"
      },
      "source": [
        "w.requires_grad_(False)\n",
        "w"
      ],
      "execution_count": 4,
      "outputs": [
        {
          "output_type": "execute_result",
          "data": {
            "text/plain": [
              "tensor([[-1.1231, -0.6223, -0.9334],\n",
              "        [-0.8107, -0.6207, -0.9675],\n",
              "        [-1.3901,  0.1450,  0.4756],\n",
              "        [ 0.8533,  0.1602,  1.2434]])"
            ]
          },
          "metadata": {},
          "execution_count": 4
        }
      ]
    },
    {
      "cell_type": "code",
      "metadata": {
        "id": "SkQCjuabt8Vh",
        "colab": {
          "base_uri": "https://localhost:8080/"
        },
        "outputId": "84bb8acf-b1e9-438d-bc1e-0d55af844be5"
      },
      "source": [
        "w.requires_grad_(True)"
      ],
      "execution_count": 5,
      "outputs": [
        {
          "output_type": "execute_result",
          "data": {
            "text/plain": [
              "tensor([[-1.1231, -0.6223, -0.9334],\n",
              "        [-0.8107, -0.6207, -0.9675],\n",
              "        [-1.3901,  0.1450,  0.4756],\n",
              "        [ 0.8533,  0.1602,  1.2434]], requires_grad=True)"
            ]
          },
          "metadata": {},
          "execution_count": 5
        }
      ]
    },
    {
      "cell_type": "code",
      "metadata": {
        "id": "rvggJC5wt8Ti"
      },
      "source": [],
      "execution_count": null,
      "outputs": []
    },
    {
      "cell_type": "markdown",
      "source": [
        "New tensor"
      ],
      "metadata": {
        "id": "3ycRemeKi2PV"
      }
    },
    {
      "cell_type": "code",
      "metadata": {
        "id": "PEg2PQiXt8RR",
        "colab": {
          "base_uri": "https://localhost:8080/"
        },
        "outputId": "cf86ba60-acac-4eb9-ae64-ecbfb329cf9c"
      },
      "source": [
        "y = torch.exp(w)\n",
        "print(y)"
      ],
      "execution_count": 6,
      "outputs": [
        {
          "output_type": "stream",
          "name": "stdout",
          "text": [
            "tensor([[0.3253, 0.5367, 0.3932],\n",
            "        [0.4446, 0.5376, 0.3800],\n",
            "        [0.2491, 1.1560, 1.6089],\n",
            "        [2.3475, 1.1737, 3.4673]], grad_fn=<ExpBackward0>)\n"
          ]
        }
      ]
    },
    {
      "cell_type": "markdown",
      "source": [
        "To verify that PyTorch keeps track of the operations"
      ],
      "metadata": {
        "id": "ZFLrfix-jPSL"
      }
    },
    {
      "cell_type": "code",
      "metadata": {
        "id": "QZopoC8It8O7",
        "colab": {
          "base_uri": "https://localhost:8080/"
        },
        "outputId": "1ae21940-3103-4b77-f2dc-2bd711c18b8c"
      },
      "source": [
        "print(y.grad_fn)"
      ],
      "execution_count": 7,
      "outputs": [
        {
          "output_type": "stream",
          "name": "stdout",
          "text": [
            "<ExpBackward0 object at 0x7fad4338f8e0>\n"
          ]
        }
      ]
    },
    {
      "cell_type": "code",
      "metadata": {
        "id": "ManI6K2rt8HD",
        "colab": {
          "base_uri": "https://localhost:8080/"
        },
        "outputId": "9b8206f7-fd21-4b1a-c7d1-f421630b7d48"
      },
      "source": [
        "outp = y.mean()\n",
        "print(outp)"
      ],
      "execution_count": 8,
      "outputs": [
        {
          "output_type": "stream",
          "name": "stdout",
          "text": [
            "tensor(1.0517, grad_fn=<MeanBackward0>)\n"
          ]
        }
      ]
    },
    {
      "cell_type": "markdown",
      "source": [
        "w.grad is still None yet since backward propagations is not being done yet"
      ],
      "metadata": {
        "id": "PlI_wnqajUho"
      }
    },
    {
      "cell_type": "code",
      "metadata": {
        "id": "tbQpKI4it8EJ",
        "colab": {
          "base_uri": "https://localhost:8080/"
        },
        "outputId": "6b50d5ff-3369-4d17-84b6-19fb7ed26dee"
      },
      "source": [
        "print(w.grad)"
      ],
      "execution_count": 9,
      "outputs": [
        {
          "output_type": "stream",
          "name": "stdout",
          "text": [
            "None\n"
          ]
        }
      ]
    },
    {
      "cell_type": "markdown",
      "source": [
        "Now, backward propagation is done"
      ],
      "metadata": {
        "id": "AcT7FINtjfiP"
      }
    },
    {
      "cell_type": "code",
      "metadata": {
        "id": "Qq3KkSGvt8B_"
      },
      "source": [
        "outp.backward()"
      ],
      "execution_count": 10,
      "outputs": []
    },
    {
      "cell_type": "markdown",
      "source": [
        "There are already gradients"
      ],
      "metadata": {
        "id": "HyNEEnFLjo8S"
      }
    },
    {
      "cell_type": "code",
      "metadata": {
        "id": "SgOzb_QMt7_-",
        "colab": {
          "base_uri": "https://localhost:8080/"
        },
        "outputId": "c60f0104-9e3b-413c-e5ac-294a9f341e86"
      },
      "source": [
        "print(w.grad)"
      ],
      "execution_count": 11,
      "outputs": [
        {
          "output_type": "stream",
          "name": "stdout",
          "text": [
            "tensor([[0.0271, 0.0447, 0.0328],\n",
            "        [0.0370, 0.0448, 0.0317],\n",
            "        [0.0208, 0.0963, 0.1341],\n",
            "        [0.1956, 0.0978, 0.2889]])\n"
          ]
        }
      ]
    },
    {
      "cell_type": "markdown",
      "source": [
        "If you don't want PyTorch to keep track of the operations and for the gradients to be calculated, detach the tensor from the computation history"
      ],
      "metadata": {
        "id": "G0ytAIEkj0P1"
      }
    },
    {
      "cell_type": "code",
      "metadata": {
        "id": "zVpIjfJ9t79q",
        "colab": {
          "base_uri": "https://localhost:8080/"
        },
        "outputId": "d0d14c2f-d48e-4c63-ff6c-2c474a19b3fe"
      },
      "source": [
        "print(w.detach())"
      ],
      "execution_count": 12,
      "outputs": [
        {
          "output_type": "stream",
          "name": "stdout",
          "text": [
            "tensor([[-1.1231, -0.6223, -0.9334],\n",
            "        [-0.8107, -0.6207, -0.9675],\n",
            "        [-1.3901,  0.1450,  0.4756],\n",
            "        [ 0.8533,  0.1602,  1.2434]])\n"
          ]
        }
      ]
    },
    {
      "cell_type": "code",
      "metadata": {
        "id": "_zJ-R2vvt77R",
        "colab": {
          "base_uri": "https://localhost:8080/"
        },
        "outputId": "6cd13f4a-73c8-4e6b-9f37-935f9503e02e"
      },
      "source": [
        "print(outp.requires_grad)\n",
        "with torch.no_grad():\n",
        "  outp = (w+y).mean()\n",
        "\n",
        "print(outp.requires_grad)"
      ],
      "execution_count": 14,
      "outputs": [
        {
          "output_type": "stream",
          "name": "stdout",
          "text": [
            "True\n",
            "False\n"
          ]
        }
      ]
    },
    {
      "cell_type": "code",
      "metadata": {
        "id": "uXriXeRvt75Z"
      },
      "source": [],
      "execution_count": null,
      "outputs": []
    },
    {
      "cell_type": "code",
      "metadata": {
        "id": "J89G4qJjt73R"
      },
      "source": [],
      "execution_count": null,
      "outputs": []
    },
    {
      "cell_type": "code",
      "metadata": {
        "id": "j6LeAdwRt71B"
      },
      "source": [],
      "execution_count": null,
      "outputs": []
    },
    {
      "cell_type": "code",
      "metadata": {
        "id": "cg0PVIylt7y1"
      },
      "source": [],
      "execution_count": null,
      "outputs": []
    },
    {
      "cell_type": "code",
      "metadata": {
        "id": "ZO2B3MaSt7we"
      },
      "source": [],
      "execution_count": null,
      "outputs": []
    },
    {
      "cell_type": "code",
      "metadata": {
        "id": "oOG09FTEt7uO"
      },
      "source": [],
      "execution_count": null,
      "outputs": []
    },
    {
      "cell_type": "code",
      "metadata": {
        "id": "EIOQXJu-t7sK"
      },
      "source": [],
      "execution_count": null,
      "outputs": []
    },
    {
      "cell_type": "code",
      "metadata": {
        "id": "bkjm3Hp3t7p-"
      },
      "source": [],
      "execution_count": null,
      "outputs": []
    }
  ]
}